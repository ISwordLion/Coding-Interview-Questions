{
 "cells": [
  {
   "cell_type": "code",
   "execution_count": 13,
   "metadata": {},
   "outputs": [],
   "source": [
    "# Nested iteration (Brute force) O(n^2) runtime\n",
    "\n",
    "def two_sum(lst, k):\n",
    "    pairs = {}\n",
    "    for i in range(len(lst)):\n",
    "        for j in range(len(lst)):\n",
    "            if i!=j and lst[i]+lst[j] == k:\n",
    "                pairs[lst[i]] = lst[j]\n",
    "    return set(pairs)"
   ]
  },
  {
   "cell_type": "code",
   "execution_count": 24,
   "metadata": {},
   "outputs": [
    {
     "name": "stdout",
     "output_type": "stream",
     "text": [
      "CPU times: user 15 µs, sys: 1e+03 ns, total: 16 µs\n",
      "Wall time: 19.8 µs\n"
     ]
    },
    {
     "data": {
      "text/plain": [
       "{3, 7, 10, 14}"
      ]
     },
     "execution_count": 24,
     "metadata": {},
     "output_type": "execute_result"
    }
   ],
   "source": [
    "lst = [10, 15, 3, 7, 14] \n",
    "k = 17\n",
    "%time two_sum(lst, k)"
   ]
  },
  {
   "cell_type": "code",
   "execution_count": 18,
   "metadata": {},
   "outputs": [],
   "source": [
    "# Using a set() for O(n) runtime\n",
    "\n",
    "def sum_a_pair(lst, k):\n",
    "    pair = {}\n",
    "    seen = set()\n",
    "    for num in lst:\n",
    "        if k-num in lst:\n",
    "            pair[num] = k-num\n",
    "        seen.add(num)\n",
    "    return set(pair)"
   ]
  },
  {
   "cell_type": "code",
   "execution_count": 25,
   "metadata": {},
   "outputs": [
    {
     "name": "stdout",
     "output_type": "stream",
     "text": [
      "CPU times: user 9 µs, sys: 0 ns, total: 9 µs\n",
      "Wall time: 14.1 µs\n"
     ]
    },
    {
     "data": {
      "text/plain": [
       "{3, 7, 10, 14}"
      ]
     },
     "execution_count": 25,
     "metadata": {},
     "output_type": "execute_result"
    }
   ],
   "source": [
    "lst = [10, 15, 3, 7, 14] \n",
    "k = 17\n",
    "%time sum_a_pair(lst, k)"
   ]
  },
  {
   "cell_type": "code",
   "execution_count": null,
   "metadata": {},
   "outputs": [],
   "source": []
  }
 ],
 "metadata": {
  "kernelspec": {
   "display_name": "Python 3",
   "language": "python",
   "name": "python3"
  },
  "language_info": {
   "codemirror_mode": {
    "name": "ipython",
    "version": 3
   },
   "file_extension": ".py",
   "mimetype": "text/x-python",
   "name": "python",
   "nbconvert_exporter": "python",
   "pygments_lexer": "ipython3",
   "version": "3.6.5"
  }
 },
 "nbformat": 4,
 "nbformat_minor": 2
}
